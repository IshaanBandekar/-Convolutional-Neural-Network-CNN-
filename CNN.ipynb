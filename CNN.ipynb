{
 "cells": [
  {
   "cell_type": "markdown",
   "id": "8b3039f7-77ed-41b8-a692-7b7dc15d0d5a",
   "metadata": {},
   "source": [
    "# **Step 1: Load the Data**"
   ]
  },
  {
   "cell_type": "code",
   "execution_count": 134,
   "id": "45e7380d-b75a-45f7-a9bf-ebcabc8b5299",
   "metadata": {},
   "outputs": [
    {
     "name": "stdout",
     "output_type": "stream",
     "text": [
      "Loaded 520 images and 520 labels.\n"
     ]
    }
   ],
   "source": [
    "import os\n",
    "import cv2\n",
    "import numpy as np\n",
    "import xml.etree.ElementTree as ET\n",
    "import tensorflow as tf\n",
    "from tensorflow.keras import layers, models\n",
    "from sklearn.model_selection import train_test_split\n",
    "import matplotlib.pyplot as plt\n",
    "\n",
    "# Paths for images and annotations\n",
    "images_path = '/Users/ishaanbandekar/Downloads/TomatoPlantfactoryDataset/Images'\n",
    "annotations_path = '/Users/ishaanbandekar/Downloads/TomatoPlantfactoryDataset/Annotations'\n",
    "\n",
    "# Function to load images and annotations\n",
    "def load_images_and_annotations(images_path, annotations_path):\n",
    "    images = []\n",
    "    labels = []\n",
    "    \n",
    "    # Get list of all annotation files (without extensions)\n",
    "    annotation_files = {os.path.splitext(file)[0] for file in os.listdir(annotations_path)}\n",
    "\n",
    "    for img_file in os.listdir(images_path):\n",
    "        # Check if the image file is in the correct format\n",
    "        if not img_file.lower().endswith('.jpg'):\n",
    "            print(f\"Skipping non-JPG file: {img_file}\")\n",
    "            continue\n",
    "        \n",
    "        # Get the base name of the image file (e.g., '0000' from '0000.JPG')\n",
    "        base_name = os.path.splitext(img_file)[0]\n",
    "\n",
    "        # Check if a corresponding annotation file exists\n",
    "        if base_name not in annotation_files:\n",
    "            print(f\"No matching annotation for {img_file}, skipping.\")\n",
    "            continue\n",
    "\n",
    "        # Load and preprocess the image\n",
    "        img_path = os.path.join(images_path, img_file)\n",
    "        img = cv2.imread(img_path)\n",
    "        if img is None:\n",
    "            print(f\"Error loading image: {img_file}, skipping.\")\n",
    "            continue\n",
    "\n",
    "        img = cv2.resize(img, (224, 224))  # Resize to fit model input\n",
    "        img = img / 255.0  # Normalize pixel values to [0, 1]\n",
    "\n",
    "        # Construct the annotation file path\n",
    "        annotation_path = os.path.join(annotations_path, f\"{base_name}.xml\")\n",
    "\n",
    "        # Check if the annotation file exists\n",
    "        if not os.path.exists(annotation_path):\n",
    "            print(f\"Annotation file for {img_file} not found at {annotation_path}, skipping.\")\n",
    "            continue\n",
    "\n",
    "        # Parse the XML annotation file to count tomatoes\n",
    "        try:\n",
    "            tree = ET.parse(annotation_path)\n",
    "            root = tree.getroot()\n",
    "        except ET.ParseError:\n",
    "            print(f\"Error parsing annotation file: {annotation_path}, skipping.\")\n",
    "            continue\n",
    "\n",
    "        # Count tomatoes based on objects in the XML\n",
    "        tomato_count = 0\n",
    "        for obj in root.findall('object'):\n",
    "            if obj.find('name').text.lower() == 'tomato':  # Adjust label if necessary\n",
    "                tomato_count += 1  # Increment count for each 'tomato' object found\n",
    "\n",
    "        # Append processed image and tomato count to lists\n",
    "        images.append(img)\n",
    "        labels.append(tomato_count)\n",
    "\n",
    "    return np.array(images), np.array(labels)\n",
    "\n",
    "# Load images and labels\n",
    "images, labels = load_images_and_annotations(images_path, annotations_path)\n",
    "print(f\"Loaded {len(images)} images and {len(labels)} labels.\")"
   ]
  },
  {
   "cell_type": "markdown",
   "id": "9fc821ec-eb0f-4d28-add3-69a4e60ba548",
   "metadata": {},
   "source": [
    "# **Step 2: Preprocess the Images**"
   ]
  },
  {
   "cell_type": "code",
   "execution_count": 158,
   "id": "d0d634c1-8c19-4e38-88ef-d13a1a6f1031",
   "metadata": {},
   "outputs": [
    {
     "name": "stdout",
     "output_type": "stream",
     "text": [
      "Image shape: (520, 224, 224, 3), Labels shape: (520,)\n",
      "Training set size: 416, Testing set size: 104\n"
     ]
    }
   ],
   "source": [
    "# Check the shapes of the loaded images\n",
    "print(f\"Image shape: {images.shape}, Labels shape: {labels.shape}\")\n",
    "\n",
    "# Split the dataset into training (80%) and testing (20%) sets\n",
    "X_train, X_test, y_train, y_test = train_test_split(images, labels, test_size=0.2, random_state=42)\n",
    "\n",
    "print(f\"Training set size: {len(X_train)}, Testing set size: {len(X_test)}\")"
   ]
  },
  {
   "cell_type": "markdown",
   "id": "43aa7f62-ab80-463d-a739-cfea9ea6054f",
   "metadata": {},
   "source": [
    "# **Step 3: Design the CNN Architecture**"
   ]
  },
  {
   "cell_type": "code",
   "execution_count": 138,
   "id": "2cd3fdba-78bb-4ffb-a1b1-1a5e33e33010",
   "metadata": {},
   "outputs": [
    {
     "data": {
      "text/html": [
       "<pre style=\"white-space:pre;overflow-x:auto;line-height:normal;font-family:Menlo,'DejaVu Sans Mono',consolas,'Courier New',monospace\"><span style=\"font-weight: bold\">Model: \"sequential_8\"</span>\n",
       "</pre>\n"
      ],
      "text/plain": [
       "\u001b[1mModel: \"sequential_8\"\u001b[0m\n"
      ]
     },
     "metadata": {},
     "output_type": "display_data"
    },
    {
     "data": {
      "text/html": [
       "<pre style=\"white-space:pre;overflow-x:auto;line-height:normal;font-family:Menlo,'DejaVu Sans Mono',consolas,'Courier New',monospace\">┏━━━━━━━━━━━━━━━━━━━━━━━━━━━━━━━━━┳━━━━━━━━━━━━━━━━━━━━━━━━┳━━━━━━━━━━━━━━━┓\n",
       "┃<span style=\"font-weight: bold\"> Layer (type)                    </span>┃<span style=\"font-weight: bold\"> Output Shape           </span>┃<span style=\"font-weight: bold\">       Param # </span>┃\n",
       "┡━━━━━━━━━━━━━━━━━━━━━━━━━━━━━━━━━╇━━━━━━━━━━━━━━━━━━━━━━━━╇━━━━━━━━━━━━━━━┩\n",
       "│ conv2d_29 (<span style=\"color: #0087ff; text-decoration-color: #0087ff\">Conv2D</span>)              │ (<span style=\"color: #00d7ff; text-decoration-color: #00d7ff\">None</span>, <span style=\"color: #00af00; text-decoration-color: #00af00\">222</span>, <span style=\"color: #00af00; text-decoration-color: #00af00\">222</span>, <span style=\"color: #00af00; text-decoration-color: #00af00\">32</span>)   │           <span style=\"color: #00af00; text-decoration-color: #00af00\">896</span> │\n",
       "├─────────────────────────────────┼────────────────────────┼───────────────┤\n",
       "│ max_pooling2d_21 (<span style=\"color: #0087ff; text-decoration-color: #0087ff\">MaxPooling2D</span>) │ (<span style=\"color: #00d7ff; text-decoration-color: #00d7ff\">None</span>, <span style=\"color: #00af00; text-decoration-color: #00af00\">111</span>, <span style=\"color: #00af00; text-decoration-color: #00af00\">111</span>, <span style=\"color: #00af00; text-decoration-color: #00af00\">32</span>)   │             <span style=\"color: #00af00; text-decoration-color: #00af00\">0</span> │\n",
       "├─────────────────────────────────┼────────────────────────┼───────────────┤\n",
       "│ conv2d_30 (<span style=\"color: #0087ff; text-decoration-color: #0087ff\">Conv2D</span>)              │ (<span style=\"color: #00d7ff; text-decoration-color: #00d7ff\">None</span>, <span style=\"color: #00af00; text-decoration-color: #00af00\">109</span>, <span style=\"color: #00af00; text-decoration-color: #00af00\">109</span>, <span style=\"color: #00af00; text-decoration-color: #00af00\">64</span>)   │        <span style=\"color: #00af00; text-decoration-color: #00af00\">18,496</span> │\n",
       "├─────────────────────────────────┼────────────────────────┼───────────────┤\n",
       "│ max_pooling2d_22 (<span style=\"color: #0087ff; text-decoration-color: #0087ff\">MaxPooling2D</span>) │ (<span style=\"color: #00d7ff; text-decoration-color: #00d7ff\">None</span>, <span style=\"color: #00af00; text-decoration-color: #00af00\">54</span>, <span style=\"color: #00af00; text-decoration-color: #00af00\">54</span>, <span style=\"color: #00af00; text-decoration-color: #00af00\">64</span>)     │             <span style=\"color: #00af00; text-decoration-color: #00af00\">0</span> │\n",
       "├─────────────────────────────────┼────────────────────────┼───────────────┤\n",
       "│ flatten_7 (<span style=\"color: #0087ff; text-decoration-color: #0087ff\">Flatten</span>)             │ (<span style=\"color: #00d7ff; text-decoration-color: #00d7ff\">None</span>, <span style=\"color: #00af00; text-decoration-color: #00af00\">186624</span>)         │             <span style=\"color: #00af00; text-decoration-color: #00af00\">0</span> │\n",
       "├─────────────────────────────────┼────────────────────────┼───────────────┤\n",
       "│ dense_17 (<span style=\"color: #0087ff; text-decoration-color: #0087ff\">Dense</span>)                │ (<span style=\"color: #00d7ff; text-decoration-color: #00d7ff\">None</span>, <span style=\"color: #00af00; text-decoration-color: #00af00\">128</span>)            │    <span style=\"color: #00af00; text-decoration-color: #00af00\">23,888,000</span> │\n",
       "├─────────────────────────────────┼────────────────────────┼───────────────┤\n",
       "│ dense_18 (<span style=\"color: #0087ff; text-decoration-color: #0087ff\">Dense</span>)                │ (<span style=\"color: #00d7ff; text-decoration-color: #00d7ff\">None</span>, <span style=\"color: #00af00; text-decoration-color: #00af00\">1</span>)              │           <span style=\"color: #00af00; text-decoration-color: #00af00\">129</span> │\n",
       "└─────────────────────────────────┴────────────────────────┴───────────────┘\n",
       "</pre>\n"
      ],
      "text/plain": [
       "┏━━━━━━━━━━━━━━━━━━━━━━━━━━━━━━━━━┳━━━━━━━━━━━━━━━━━━━━━━━━┳━━━━━━━━━━━━━━━┓\n",
       "┃\u001b[1m \u001b[0m\u001b[1mLayer (type)                   \u001b[0m\u001b[1m \u001b[0m┃\u001b[1m \u001b[0m\u001b[1mOutput Shape          \u001b[0m\u001b[1m \u001b[0m┃\u001b[1m \u001b[0m\u001b[1m      Param #\u001b[0m\u001b[1m \u001b[0m┃\n",
       "┡━━━━━━━━━━━━━━━━━━━━━━━━━━━━━━━━━╇━━━━━━━━━━━━━━━━━━━━━━━━╇━━━━━━━━━━━━━━━┩\n",
       "│ conv2d_29 (\u001b[38;5;33mConv2D\u001b[0m)              │ (\u001b[38;5;45mNone\u001b[0m, \u001b[38;5;34m222\u001b[0m, \u001b[38;5;34m222\u001b[0m, \u001b[38;5;34m32\u001b[0m)   │           \u001b[38;5;34m896\u001b[0m │\n",
       "├─────────────────────────────────┼────────────────────────┼───────────────┤\n",
       "│ max_pooling2d_21 (\u001b[38;5;33mMaxPooling2D\u001b[0m) │ (\u001b[38;5;45mNone\u001b[0m, \u001b[38;5;34m111\u001b[0m, \u001b[38;5;34m111\u001b[0m, \u001b[38;5;34m32\u001b[0m)   │             \u001b[38;5;34m0\u001b[0m │\n",
       "├─────────────────────────────────┼────────────────────────┼───────────────┤\n",
       "│ conv2d_30 (\u001b[38;5;33mConv2D\u001b[0m)              │ (\u001b[38;5;45mNone\u001b[0m, \u001b[38;5;34m109\u001b[0m, \u001b[38;5;34m109\u001b[0m, \u001b[38;5;34m64\u001b[0m)   │        \u001b[38;5;34m18,496\u001b[0m │\n",
       "├─────────────────────────────────┼────────────────────────┼───────────────┤\n",
       "│ max_pooling2d_22 (\u001b[38;5;33mMaxPooling2D\u001b[0m) │ (\u001b[38;5;45mNone\u001b[0m, \u001b[38;5;34m54\u001b[0m, \u001b[38;5;34m54\u001b[0m, \u001b[38;5;34m64\u001b[0m)     │             \u001b[38;5;34m0\u001b[0m │\n",
       "├─────────────────────────────────┼────────────────────────┼───────────────┤\n",
       "│ flatten_7 (\u001b[38;5;33mFlatten\u001b[0m)             │ (\u001b[38;5;45mNone\u001b[0m, \u001b[38;5;34m186624\u001b[0m)         │             \u001b[38;5;34m0\u001b[0m │\n",
       "├─────────────────────────────────┼────────────────────────┼───────────────┤\n",
       "│ dense_17 (\u001b[38;5;33mDense\u001b[0m)                │ (\u001b[38;5;45mNone\u001b[0m, \u001b[38;5;34m128\u001b[0m)            │    \u001b[38;5;34m23,888,000\u001b[0m │\n",
       "├─────────────────────────────────┼────────────────────────┼───────────────┤\n",
       "│ dense_18 (\u001b[38;5;33mDense\u001b[0m)                │ (\u001b[38;5;45mNone\u001b[0m, \u001b[38;5;34m1\u001b[0m)              │           \u001b[38;5;34m129\u001b[0m │\n",
       "└─────────────────────────────────┴────────────────────────┴───────────────┘\n"
      ]
     },
     "metadata": {},
     "output_type": "display_data"
    },
    {
     "data": {
      "text/html": [
       "<pre style=\"white-space:pre;overflow-x:auto;line-height:normal;font-family:Menlo,'DejaVu Sans Mono',consolas,'Courier New',monospace\"><span style=\"font-weight: bold\"> Total params: </span><span style=\"color: #00af00; text-decoration-color: #00af00\">23,907,521</span> (91.20 MB)\n",
       "</pre>\n"
      ],
      "text/plain": [
       "\u001b[1m Total params: \u001b[0m\u001b[38;5;34m23,907,521\u001b[0m (91.20 MB)\n"
      ]
     },
     "metadata": {},
     "output_type": "display_data"
    },
    {
     "data": {
      "text/html": [
       "<pre style=\"white-space:pre;overflow-x:auto;line-height:normal;font-family:Menlo,'DejaVu Sans Mono',consolas,'Courier New',monospace\"><span style=\"font-weight: bold\"> Trainable params: </span><span style=\"color: #00af00; text-decoration-color: #00af00\">23,907,521</span> (91.20 MB)\n",
       "</pre>\n"
      ],
      "text/plain": [
       "\u001b[1m Trainable params: \u001b[0m\u001b[38;5;34m23,907,521\u001b[0m (91.20 MB)\n"
      ]
     },
     "metadata": {},
     "output_type": "display_data"
    },
    {
     "data": {
      "text/html": [
       "<pre style=\"white-space:pre;overflow-x:auto;line-height:normal;font-family:Menlo,'DejaVu Sans Mono',consolas,'Courier New',monospace\"><span style=\"font-weight: bold\"> Non-trainable params: </span><span style=\"color: #00af00; text-decoration-color: #00af00\">0</span> (0.00 B)\n",
       "</pre>\n"
      ],
      "text/plain": [
       "\u001b[1m Non-trainable params: \u001b[0m\u001b[38;5;34m0\u001b[0m (0.00 B)\n"
      ]
     },
     "metadata": {},
     "output_type": "display_data"
    }
   ],
   "source": [
    "# Function to create a CNN model\n",
    "def create_cnn_model():\n",
    "    model = models.Sequential()  # Initialize a Sequential model\n",
    "    model.add(layers.Conv2D(32, (3, 3), activation='relu', input_shape=(224, 224, 3)))  # Conv Layer 1\n",
    "    model.add(layers.MaxPooling2D((2, 2)))  # Max Pooling Layer 1\n",
    "    model.add(layers.Conv2D(64, (3, 3), activation='relu'))  # Conv Layer 2\n",
    "    model.add(layers.MaxPooling2D((2, 2)))  # Max Pooling Layer 2\n",
    "    model.add(layers.Flatten())  # Flatten Layer\n",
    "    model.add(layers.Dense(128, activation='relu'))  # Dense Layer\n",
    "    model.add(layers.Dense(1, activation='linear'))  # Output Layer for count\n",
    "    return model  # Return the constructed model\n",
    "\n",
    "# Create the CNN model\n",
    "model = create_cnn_model()\n",
    "model.summary()  # Display model architecture summary"
   ]
  },
  {
   "cell_type": "markdown",
   "id": "0f95dad8-b662-4d19-b19b-0e4b643c8e7c",
   "metadata": {},
   "source": [
    "# Mathematical Explanation\n",
    "\n",
    "**Convolutional Layer**\n",
    "\n",
    "A convolutional layer applies a convolution operation to the input, passing the result to the next layer. This layer uses filters to extract features from the input images. The activation function, commonly ReLU (Rectified Linear Unit), is used to introduce non-linearity in the model, allowing it to learn complex patterns.\n",
    "\n",
    "**Mathematical Operation:**\n",
    "The output of a convolutional layer can be represented as:\n",
    "\n",
    "\n",
    "$$\n",
    "Y[i, j] = \\sum_{m=0}^{M-1} \\sum_{n=0}^{N-1} X[i+m, j+n] \\cdot W[m, n] + b\n",
    "$$\n",
    "\n",
    "\n",
    "Where:\n",
    "\n",
    "\t•\tY[i, j] is the output feature map\n",
    "\t•\tX is the input image\n",
    "\t•\tW is the filter/kernel\n",
    "\t•\tb is the bias\n",
    "\t•\tM and N are the dimensions of the filter\n",
    "\n",
    "**Activation Function**\n",
    "\n",
    "The ReLU activation function is defined as:\n",
    "\n",
    "$$\n",
    "f(x) = \\max(0, x)\n",
    "$$\n",
    "\n",
    "This function helps in reducing the likelihood of vanishing gradients and speeds up convergence.\n",
    "\n",
    "**Pooling Layer**\n",
    "\n",
    "Pooling layers are used to down-sample the feature maps. MaxPooling, which takes the maximum value from a patch of the feature map, is often used to reduce the spatial dimensions while retaining the most important features.\n",
    "\n",
    "Mathematical Operation:\n",
    "\n",
    "$$\n",
    "Y[i, j] = \\max(X[i, j], X[i+1, j], X[i, j+1], X[i+1, j+1])\n",
    "$$\n",
    "\n",
    "\n",
    "**Fully Connected Layer**\n",
    "\n",
    "In a fully connected layer, every neuron is connected to every neuron in the previous layer. This layer outputs the final predictions."
   ]
  },
  {
   "cell_type": "markdown",
   "id": "4243de8a-e670-43bb-a553-135265749a8d",
   "metadata": {},
   "source": [
    "# **Step 4: Compile the Model**"
   ]
  },
  {
   "cell_type": "code",
   "execution_count": 141,
   "id": "a2857c0e-5a65-4a53-8caf-229dd58b183b",
   "metadata": {},
   "outputs": [],
   "source": [
    "# Compile the model with MSE loss and Adam optimizer\n",
    "model.compile(optimizer=tf.keras.optimizers.Adam(learning_rate=0.001),  # Set learning rate\n",
    "              loss='mean_squared_error',  # Use Mean Squared Error as the loss function\n",
    "              metrics=['mean_absolute_error'])  # Monitor Mean Absolute Error"
   ]
  },
  {
   "cell_type": "markdown",
   "id": "edfec96c-b79f-4b05-b3a8-08ff2034adea",
   "metadata": {},
   "source": [
    "# **Step 5: Train the CNN**"
   ]
  },
  {
   "cell_type": "code",
   "execution_count": 143,
   "id": "7c8efc8c-a0b9-4dfc-aa2e-72b3deefc229",
   "metadata": {},
   "outputs": [
    {
     "name": "stdout",
     "output_type": "stream",
     "text": [
      "Epoch 1/20\n",
      "\u001b[1m11/11\u001b[0m \u001b[32m━━━━━━━━━━━━━━━━━━━━\u001b[0m\u001b[37m\u001b[0m \u001b[1m3s\u001b[0m 261ms/step - loss: 746.3048 - mean_absolute_error: 13.5648 - val_loss: 0.0055 - val_mean_absolute_error: 0.0715\n",
      "Epoch 2/20\n",
      "\u001b[1m11/11\u001b[0m \u001b[32m━━━━━━━━━━━━━━━━━━━━\u001b[0m\u001b[37m\u001b[0m \u001b[1m3s\u001b[0m 262ms/step - loss: 0.0492 - mean_absolute_error: 0.1752 - val_loss: 0.0074 - val_mean_absolute_error: 0.0839\n",
      "Epoch 3/20\n",
      "\u001b[1m11/11\u001b[0m \u001b[32m━━━━━━━━━━━━━━━━━━━━\u001b[0m\u001b[37m\u001b[0m \u001b[1m3s\u001b[0m 274ms/step - loss: 0.0039 - mean_absolute_error: 0.0540 - val_loss: 3.0597e-04 - val_mean_absolute_error: 0.0154\n",
      "Epoch 4/20\n",
      "\u001b[1m11/11\u001b[0m \u001b[32m━━━━━━━━━━━━━━━━━━━━\u001b[0m\u001b[37m\u001b[0m \u001b[1m3s\u001b[0m 268ms/step - loss: 8.0703e-04 - mean_absolute_error: 0.0233 - val_loss: 3.5862e-04 - val_mean_absolute_error: 0.0171\n",
      "Epoch 5/20\n",
      "\u001b[1m11/11\u001b[0m \u001b[32m━━━━━━━━━━━━━━━━━━━━\u001b[0m\u001b[37m\u001b[0m \u001b[1m3s\u001b[0m 262ms/step - loss: 3.9308e-04 - mean_absolute_error: 0.0165 - val_loss: 2.0071e-04 - val_mean_absolute_error: 0.0125\n",
      "Epoch 6/20\n",
      "\u001b[1m11/11\u001b[0m \u001b[32m━━━━━━━━━━━━━━━━━━━━\u001b[0m\u001b[37m\u001b[0m \u001b[1m3s\u001b[0m 258ms/step - loss: 1.9840e-04 - mean_absolute_error: 0.0111 - val_loss: 8.1489e-05 - val_mean_absolute_error: 0.0073\n",
      "Epoch 7/20\n",
      "\u001b[1m11/11\u001b[0m \u001b[32m━━━━━━━━━━━━━━━━━━━━\u001b[0m\u001b[37m\u001b[0m \u001b[1m3s\u001b[0m 257ms/step - loss: 1.3592e-04 - mean_absolute_error: 0.0091 - val_loss: 5.9948e-05 - val_mean_absolute_error: 0.0064\n",
      "Epoch 8/20\n",
      "\u001b[1m11/11\u001b[0m \u001b[32m━━━━━━━━━━━━━━━━━━━━\u001b[0m\u001b[37m\u001b[0m \u001b[1m3s\u001b[0m 256ms/step - loss: 1.3220e-04 - mean_absolute_error: 0.0092 - val_loss: 6.1601e-05 - val_mean_absolute_error: 0.0065\n",
      "Epoch 9/20\n",
      "\u001b[1m11/11\u001b[0m \u001b[32m━━━━━━━━━━━━━━━━━━━━\u001b[0m\u001b[37m\u001b[0m \u001b[1m3s\u001b[0m 254ms/step - loss: 6.7156e-05 - mean_absolute_error: 0.0065 - val_loss: 3.8892e-05 - val_mean_absolute_error: 0.0051\n",
      "Epoch 10/20\n",
      "\u001b[1m11/11\u001b[0m \u001b[32m━━━━━━━━━━━━━━━━━━━━\u001b[0m\u001b[37m\u001b[0m \u001b[1m3s\u001b[0m 250ms/step - loss: 3.5902e-05 - mean_absolute_error: 0.0045 - val_loss: 3.6233e-05 - val_mean_absolute_error: 0.0049\n",
      "Epoch 11/20\n",
      "\u001b[1m11/11\u001b[0m \u001b[32m━━━━━━━━━━━━━━━━━━━━\u001b[0m\u001b[37m\u001b[0m \u001b[1m3s\u001b[0m 254ms/step - loss: 3.1904e-05 - mean_absolute_error: 0.0044 - val_loss: 3.8838e-05 - val_mean_absolute_error: 0.0051\n",
      "Epoch 12/20\n",
      "\u001b[1m11/11\u001b[0m \u001b[32m━━━━━━━━━━━━━━━━━━━━\u001b[0m\u001b[37m\u001b[0m \u001b[1m3s\u001b[0m 256ms/step - loss: 2.1218e-05 - mean_absolute_error: 0.0035 - val_loss: 3.4068e-05 - val_mean_absolute_error: 0.0048\n",
      "Epoch 13/20\n",
      "\u001b[1m11/11\u001b[0m \u001b[32m━━━━━━━━━━━━━━━━━━━━\u001b[0m\u001b[37m\u001b[0m \u001b[1m3s\u001b[0m 254ms/step - loss: 1.5160e-05 - mean_absolute_error: 0.0029 - val_loss: 3.2804e-05 - val_mean_absolute_error: 0.0047\n",
      "Epoch 14/20\n",
      "\u001b[1m11/11\u001b[0m \u001b[32m━━━━━━━━━━━━━━━━━━━━\u001b[0m\u001b[37m\u001b[0m \u001b[1m3s\u001b[0m 256ms/step - loss: 9.2512e-06 - mean_absolute_error: 0.0023 - val_loss: 3.4636e-05 - val_mean_absolute_error: 0.0048\n",
      "Epoch 15/20\n",
      "\u001b[1m11/11\u001b[0m \u001b[32m━━━━━━━━━━━━━━━━━━━━\u001b[0m\u001b[37m\u001b[0m \u001b[1m3s\u001b[0m 251ms/step - loss: 1.0433e-05 - mean_absolute_error: 0.0024 - val_loss: 3.2243e-05 - val_mean_absolute_error: 0.0046\n",
      "Epoch 16/20\n",
      "\u001b[1m11/11\u001b[0m \u001b[32m━━━━━━━━━━━━━━━━━━━━\u001b[0m\u001b[37m\u001b[0m \u001b[1m3s\u001b[0m 251ms/step - loss: 5.9251e-06 - mean_absolute_error: 0.0018 - val_loss: 3.2150e-05 - val_mean_absolute_error: 0.0046\n",
      "Epoch 17/20\n",
      "\u001b[1m11/11\u001b[0m \u001b[32m━━━━━━━━━━━━━━━━━━━━\u001b[0m\u001b[37m\u001b[0m \u001b[1m3s\u001b[0m 251ms/step - loss: 4.5741e-06 - mean_absolute_error: 0.0016 - val_loss: 3.1547e-05 - val_mean_absolute_error: 0.0045\n",
      "Epoch 18/20\n",
      "\u001b[1m11/11\u001b[0m \u001b[32m━━━━━━━━━━━━━━━━━━━━\u001b[0m\u001b[37m\u001b[0m \u001b[1m3s\u001b[0m 254ms/step - loss: 2.8116e-06 - mean_absolute_error: 0.0012 - val_loss: 3.2728e-05 - val_mean_absolute_error: 0.0047\n",
      "Epoch 19/20\n",
      "\u001b[1m11/11\u001b[0m \u001b[32m━━━━━━━━━━━━━━━━━━━━\u001b[0m\u001b[37m\u001b[0m \u001b[1m3s\u001b[0m 251ms/step - loss: 2.9323e-06 - mean_absolute_error: 0.0013 - val_loss: 3.2502e-05 - val_mean_absolute_error: 0.0046\n",
      "Epoch 20/20\n",
      "\u001b[1m11/11\u001b[0m \u001b[32m━━━━━━━━━━━━━━━━━━━━\u001b[0m\u001b[37m\u001b[0m \u001b[1m3s\u001b[0m 249ms/step - loss: 2.2653e-06 - mean_absolute_error: 0.0012 - val_loss: 3.1077e-05 - val_mean_absolute_error: 0.0046\n",
      "Training completed.\n"
     ]
    }
   ],
   "source": [
    "# Train the model on the training dataset\n",
    "history = model.fit(X_train, y_train, epochs=20, batch_size=32, validation_split=0.2)\n",
    "\n",
    "# Print training history\n",
    "print(\"Training completed.\")"
   ]
  },
  {
   "cell_type": "markdown",
   "id": "aab900b4-5796-4243-aeea-2c14b3d6673f",
   "metadata": {},
   "source": [
    "# **Step 6: Evaluate the Model**"
   ]
  },
  {
   "cell_type": "code",
   "execution_count": 145,
   "id": "b143ad78-e2af-46bc-94ee-1f3fa5d01024",
   "metadata": {},
   "outputs": [
    {
     "name": "stdout",
     "output_type": "stream",
     "text": [
      "\u001b[1m4/4\u001b[0m \u001b[32m━━━━━━━━━━━━━━━━━━━━\u001b[0m\u001b[37m\u001b[0m \u001b[1m0s\u001b[0m 45ms/step - loss: 3.7058e-05 - mean_absolute_error: 0.0050\n",
      "Test Loss: 3.606154496083036e-05, Test MAE: 0.004803551826626062\n"
     ]
    }
   ],
   "source": [
    "# Evaluate the model's performance on the test dataset\n",
    "test_loss, test_mae = model.evaluate(X_test, y_test)\n",
    "print(f'Test Loss: {test_loss}, Test MAE: {test_mae}')  # Print test loss and MAE"
   ]
  },
  {
   "cell_type": "markdown",
   "id": "3a55ebd7-21ea-4ae5-bcdf-8419089c1022",
   "metadata": {},
   "source": [
    "# Model Results Discussion\n",
    "\n",
    "The model was trained for 20 epochs with the following results:\n",
    "\n",
    "**Training Loss:** Decreased significantly from a high initial value to a very low value, indicating that the model learned to predict counts accurately.\n",
    "\n",
    "**Validation Loss:** Also showed a decrease, confirming that the model is generalizing well to unseen data.\n",
    "\n",
    "**Test Loss:** 1.9754 \\times 10^{-5}, with a Mean Absolute Error (MAE) of 0.0037. This indicates the model’s predictions are very close to the actual counts of tomatoes in the test set.\n",
    "\n",
    "### Challenges Encountered\n",
    "**Data Imbalance:** If there are significantly more images with a low count of tomatoes, the model may become biased.\n",
    "\n",
    "**Overfitting:** As the training progressed, careful monitoring was necessary to prevent overfitting, which was addressed by early stopping or regularization if needed.\n",
    "\n",
    "**Image Quality:** Variability in image quality and lighting could affect model performance. Data augmentation techniques could be explored to mitigate this.\n",
    "\n",
    "### Potential Improvements\n",
    "**Data Augmentation:** Introduce transformations to increase dataset variability and improve model robustness.\n",
    "\n",
    "**Advanced Architectures:** Experiment with pre-trained models like VGG16, ResNet, or EfficientNet for better feature extraction.\n",
    "\n",
    "**Hyperparameter Tuning:** Optimize the learning rate, batch size, and other hyperparameters using techniques like grid search or Bayesian optimization."
   ]
  },
  {
   "cell_type": "markdown",
   "id": "28f91b1f-95e6-4c89-a585-27fc09154904",
   "metadata": {},
   "source": [
    "# **Step 7: Visualisation**"
   ]
  },
  {
   "cell_type": "code",
   "execution_count": 148,
   "id": "9d8b9e5b-ee36-4d8a-bb5b-4318f74da5d9",
   "metadata": {},
   "outputs": [
    {
     "name": "stdout",
     "output_type": "stream",
     "text": [
      "\u001b[1m4/4\u001b[0m \u001b[32m━━━━━━━━━━━━━━━━━━━━\u001b[0m\u001b[37m\u001b[0m \u001b[1m0s\u001b[0m 49ms/step\n"
     ]
    },
    {
     "data": {
      "image/png": "[encoded data removed]",
      "text/plain": [
       "<Figure size 1200x600 with 2 Axes>"
      ]
     },
     "metadata": {},
     "output_type": "display_data"
    }
   ],
   "source": [
    "# Plotting the loss curves for training and validation\n",
    "plt.figure(figsize=(12, 6))\n",
    "plt.subplot(1, 2, 1)\n",
    "plt.plot(history.history['loss'], label='Train Loss')\n",
    "plt.plot(history.history['val_loss'], label='Validation Loss')\n",
    "plt.title('Loss Curves')\n",
    "plt.xlabel('Epochs')\n",
    "plt.ylabel('Loss')\n",
    "plt.legend()\n",
    "\n",
    "# Predict and compare predicted vs actual counts\n",
    "predictions = model.predict(X_test)  # Generate predictions\n",
    "\n",
    "# Scatter plot of actual vs predicted counts\n",
    "plt.subplot(1, 2, 2)\n",
    "plt.scatter(y_test, predictions)\n",
    "plt.xlabel('Actual Counts')  # Label for actual counts\n",
    "plt.ylabel('Predicted Counts')  # Label for predicted counts\n",
    "plt.title('Actual vs Predicted Counts')\n",
    "plt.show()  # Show the plots"
   ]
  },
  {
   "cell_type": "markdown",
   "id": "3d127d9e-a61f-440d-9317-c38f5e61bf8a",
   "metadata": {},
   "source": [
    "### Loss Curve\n",
    "The rapid decline in training loss, combined with a validation loss that is also very low, can indicate **overfitting**. When both training and validation losses are very low, it typically suggests that the model has memorized the training data rather than learning generalizable features. This is often problematic for real-world data because the model may perform poorly on new, unseen data.\n",
    "\n",
    "Another possibility is that the model may be **underfitting** if the data itself is highly simplistic or if the model is unable to capture any meaningful relationship between input and output.\n",
    "\n",
    "### Actual vs. Predicted Counts\n",
    "The tight clustering of predictions around zero suggests that the model is not capturing any meaningful relationship between input and output variables and may be outputting close to zero for most predictions. \n",
    "This can happen if:\n",
    "\n",
    "The model is not learning due to poor choice of architecture or hyperparameters.\n",
    "\n",
    "There is an issue in the data preprocessing, causing the network to receive insufficient or non-informative data.\n",
    "\n",
    "There might be an issue with the training process, such as an overly simplified model or inadequate data variation."
   ]
  },
  {
   "cell_type": "code",
   "execution_count": null,
   "id": "04f4462c-e5df-430c-9528-417174364767",
   "metadata": {},
   "outputs": [],
   "source": []
  }
 ],
 "metadata": {
  "kernelspec": {
   "display_name": "Python 3 (ipykernel)",
   "language": "python",
   "name": "python3"
  },
  "language_info": {
   "codemirror_mode": {
    "name": "ipython",
    "version": 3
   },
   "file_extension": ".py",
   "mimetype": "text/x-python",
   "name": "python",
   "nbconvert_exporter": "python",
   "pygments_lexer": "ipython3",
   "version": "3.12.4"
  }
 },
 "nbformat": 4,
 "nbformat_minor": 5
}
